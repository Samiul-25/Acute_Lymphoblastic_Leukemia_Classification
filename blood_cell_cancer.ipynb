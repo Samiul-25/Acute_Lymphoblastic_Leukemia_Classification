{
  "cells": [
    {
      "cell_type": "code",
      "execution_count": null,
      "metadata": {
        "colab": {
          "base_uri": "https://localhost:8080/"
        },
        "id": "kbBs43MKbDIh",
        "outputId": "f2bb3ca1-363b-4657-9f4f-f392f6dd3e8b"
      },
      "outputs": [],
      "source": [
        "from google.colab import drive\n",
        "drive.mount('/content/drive')"
      ]
    },
    {
      "cell_type": "markdown",
      "metadata": {
        "id": "MxOZJ8NDW2aR"
      },
      "source": [
        "# Import kaggle"
      ]
    },
    {
      "cell_type": "code",
      "execution_count": null,
      "metadata": {
        "id": "Il9qyvecCvKu"
      },
      "outputs": [],
      "source": [
        "!pip install -q kaggle\n",
        "!mkdir ~/.kaggle\n",
        "!cp \"/content/drive/MyDrive/Colab Notebooks/kaggle.json\" ~/.kaggle/\n",
        "! chmod 600 ~/.kaggle/kaggle.json"
      ]
    },
    {
      "cell_type": "code",
      "execution_count": null,
      "metadata": {
        "colab": {
          "base_uri": "https://localhost:8080/"
        },
        "id": "Yf7acMK0C5sg",
        "outputId": "18973701-2a8c-4ed3-f9b5-1a0a6ec49a67"
      },
      "outputs": [],
      "source": [
        "! kaggle datasets download -d mohammadamireshraghi/blood-cell-cancer-all-4class"
      ]
    },
    {
      "cell_type": "markdown",
      "metadata": {
        "id": "DEvsMXCrW4zp"
      },
      "source": [
        "# Unzip data"
      ]
    },
    {
      "cell_type": "code",
      "execution_count": null,
      "metadata": {
        "id": "xRSEubEVDHMZ"
      },
      "outputs": [],
      "source": [
        "! unzip -q \"blood-cell-cancer-all-4class.zip\""
      ]
    },
    {
      "cell_type": "markdown",
      "metadata": {
        "id": "RWFMm2W2W8W1"
      },
      "source": [
        "# Set dataset path"
      ]
    },
    {
      "cell_type": "code",
      "execution_count": null,
      "metadata": {
        "id": "vG9dRulmDON9"
      },
      "outputs": [],
      "source": [
        "datasets_dir = \"Blood cell Cancer [ALL]\"\n"
      ]
    },
    {
      "cell_type": "markdown",
      "metadata": {
        "id": "OVEKY_15X_fr"
      },
      "source": [
        "# Variable"
      ]
    },
    {
      "cell_type": "code",
      "execution_count": null,
      "metadata": {
        "id": "17G--Hu_YDHH"
      },
      "outputs": [],
      "source": [
        "epochs = 32\n",
        "IMG_SIZE = 128\n",
        "BATCH_SIZE = 32"
      ]
    },
    {
      "cell_type": "markdown",
      "metadata": {
        "id": "rNCXxC2-W-w9"
      },
      "source": [
        "# Dataset Load"
      ]
    },
    {
      "cell_type": "code",
      "execution_count": null,
      "metadata": {
        "colab": {
          "base_uri": "https://localhost:8080/"
        },
        "id": "4l0dBwAqDYXC",
        "outputId": "9e803327-d85a-4e24-edc4-a214e1f0e069"
      },
      "outputs": [],
      "source": [
        "import tensorflow as tf\n",
        "import numpy as np\n",
        "tf.random.set_seed(42)\n",
        "\n",
        "\n",
        "\n",
        "train_data = tf.keras.preprocessing.image_dataset_from_directory(\n",
        "    directory = datasets_dir,\n",
        "    image_size = (IMG_SIZE, IMG_SIZE),\n",
        "    label_mode = 'categorical',\n",
        "    color_mode=\"rgb\",\n",
        "    batch_size = BATCH_SIZE,\n",
        "    seed=42,\n",
        "    shuffle = True,\n",
        "    validation_split=0.2,\n",
        "    subset=\"training\"\n",
        "\n",
        ").cache().shuffle(1000).prefetch(buffer_size=tf.data.AUTOTUNE)\n",
        "\n",
        "\n",
        "test_dataset = tf.keras.preprocessing.image_dataset_from_directory(\n",
        "    directory = datasets_dir,\n",
        "    image_size = (IMG_SIZE, IMG_SIZE),\n",
        "    label_mode = 'categorical',\n",
        "    color_mode=\"rgb\",\n",
        "    batch_size = BATCH_SIZE,\n",
        "    seed=42,\n",
        "    shuffle = True,\n",
        "    validation_split=0.2,\n",
        "    subset=\"validation\"\n",
        "\n",
        ")\n",
        "class_names = test_dataset.class_names\n",
        "test_data = test_dataset.cache().shuffle(1000).prefetch(buffer_size=tf.data.AUTOTUNE)\n",
        "class_names\n"
      ]
    },
    {
      "cell_type": "markdown",
      "metadata": {
        "id": "42cOnG0QXBOp"
      },
      "source": [
        "# Data augmentation"
      ]
    },
    {
      "cell_type": "code",
      "execution_count": null,
      "metadata": {
        "id": "9OfUX3RPDeJH"
      },
      "outputs": [],
      "source": [
        "import tensorflow as tf\n",
        "\n",
        "data_augmentation = tf.keras.Sequential([\n",
        "  tf.keras.layers.experimental.preprocessing.RandomFlip(\"horizontal\",input_shape=(IMG_SIZE, IMG_SIZE, 3)),\n",
        "  tf.keras.layers.experimental.preprocessing.RandomRotation(0.2),\n",
        "  tf.keras.layers.experimental.preprocessing.RandomZoom(0.2),\n",
        "  tf.keras.layers.experimental.preprocessing.RandomHeight(0.2),\n",
        "  tf.keras.layers.experimental.preprocessing.RandomWidth(0.2)\n",
        "], name =\"data_augmentation\")"
      ]
    },
    {
      "cell_type": "markdown",
      "metadata": {
        "id": "eq_ABmDwXE_L"
      },
      "source": [
        "# Plot images"
      ]
    },
    {
      "cell_type": "code",
      "execution_count": null,
      "metadata": {
        "colab": {
          "base_uri": "https://localhost:8080/",
          "height": 580
        },
        "id": "r5wvaamdDlyo",
        "outputId": "88b10d05-c5eb-4a85-8019-e83a0e5d105f"
      },
      "outputs": [],
      "source": [
        "import matplotlib.pyplot as plt\n",
        "import numpy as np\n",
        "\n",
        "plt.figure(figsize=(10,10))\n",
        "for image_batch,label_batch in train_data.take(1):\n",
        "    for i in range(0,8):\n",
        "        plt.subplot(3,4,i+1)\n",
        "        plt.imshow(image_batch[i].numpy().astype(\"uint8\"))\n",
        "        plt.title(class_names[np.argmax(label_batch[i])])\n",
        "        plt.axis(\"off\")\n",
        "plt.tight_layout()\n",
        "plt.show()"
      ]
    },
    {
      "cell_type": "markdown",
      "metadata": {
        "id": "Q5szjSHKZGbV"
      },
      "source": [
        "# Augmented image view"
      ]
    },
    {
      "cell_type": "code",
      "execution_count": null,
      "metadata": {
        "colab": {
          "base_uri": "https://localhost:8080/",
          "height": 829
        },
        "id": "WTFGbykUZFa0",
        "outputId": "78377a45-17bb-4755-a40c-f102198c8f41"
      },
      "outputs": [],
      "source": [
        "plt.figure(figsize=(10,10))\n",
        "for image_batch,label_batch in train_data.take(1):\n",
        "    augmented_image_batch = data_augmentation(image_batch)\n",
        "    image_plt_len = len(image_batch) if len(image_batch) < 4 else 4\n",
        "    for i in range(0, image_plt_len):\n",
        "        plt.subplot(image_plt_len,2,2*i+1)\n",
        "        plt.imshow(image_batch[i].numpy().astype(\"uint32\"))\n",
        "        plt.title(class_names[np.argmax(label_batch[i])])\n",
        "        plt.axis(\"off\")\n",
        "        plt.subplot(image_plt_len,2,2*i+2)\n",
        "        img = augmented_image_batch[i].numpy().astype(\"uint32\")\n",
        "        plt.imshow(img)\n",
        "        plt.title(f\"augmented\")\n",
        "        plt.axis(\"off\")"
      ]
    },
    {
      "cell_type": "markdown",
      "metadata": {
        "id": "fT-ctQuvXOze"
      },
      "source": [
        "## Create checkpoint"
      ]
    },
    {
      "cell_type": "code",
      "execution_count": null,
      "metadata": {
        "id": "NU-Z6xWEDnze"
      },
      "outputs": [],
      "source": [
        "# checkpoint_path = \"/CheckPoint/\"\n",
        "# checkpoint_callback = tf.keras.callbacks.ModelCheckpoint(\n",
        "#     checkpoint_path,\n",
        "#     # save_weights_only=True,\n",
        "#     monitor='val_accuracy',\n",
        "#     save_best_only=True\n",
        "# )\n"
      ]
    },
    {
      "cell_type": "markdown",
      "metadata": {
        "id": "0IczhSDBXRE5"
      },
      "source": [
        "# Model. transferlearning. ResNet50\n"
      ]
    },
    {
      "cell_type": "code",
      "execution_count": null,
      "metadata": {
        "id": "kdtSsiaZYofW"
      },
      "outputs": [],
      "source": [
        "# ResNet 50 model\n",
        "import keras\n",
        "\n",
        "model = keras.Sequential()\n",
        "resnet = keras.applications.ResNet50(\n",
        "    include_top=False,\n",
        "    input_shape=(128, 128, 3),\n",
        "    pooling='avg',\n",
        "    classes=len(class_names),\n",
        "    weights='imagenet'\n",
        ")\n",
        "\n",
        "for layer in resnet.layers:\n",
        "  layer.trainable = False\n",
        "\n",
        "model.add(resnet)\n",
        "model.add(keras.layers.Flatten())\n",
        "\n",
        "#model.add(keras.layers.Dense(512, activation= 'relu'))\n",
        "#model.add(keras.layers.Dropout(rate= 0.2))\n",
        "model.add(keras.layers.Dense(256, activation= 'relu'))\n",
        "model.add(keras.layers.Dropout(rate= 0.2))\n",
        "#model.add(keras.layers.Dense(128, activation= 'relu'))\n",
        "#model.add(keras.layers.Dropout(rate= 0.2))\n",
        "#model.add(keras.layers.Dense(128, activation= 'relu'))\n",
        "#model.add(keras.layers.Dropout(rate= 0.2))\n",
        "#model.add(keras.layers.Dense(64, activation= 'relu'))\n",
        "#model.add(keras.layers.Dropout(rate= 0.2))\n",
        "\n",
        "model.add(keras.layers.Dense(32, activation= 'relu'))\n",
        "\n",
        "model.add(keras.layers.Dense(len(class_names), activation='softmax', name='output_layer'))\n"
      ]
    },
    {
      "cell_type": "markdown",
      "metadata": {},
      "source": [
        "# Model. transferlearning.EfficientNetB0"
      ]
    },
    {
      "cell_type": "code",
      "execution_count": null,
      "metadata": {
        "id": "FhzPAxduDp3y"
      },
      "outputs": [],
      "source": [
        "# import tensorflow as tf\n",
        "\n",
        "# # Setup the base model and freeze its layers (this will extract features)\n",
        "# base_model = tf.keras.applications.EfficientNetB0(include_top=False)\n",
        "# base_model.trainable= False\n",
        "\n",
        "# #Setup model architecture with trainable top layers\n",
        "# inputs = tf.keras.layers.Input(shape=(IMG_SIZE,IMG_SIZE,3), name='input_layer')\n",
        "# x = data_augmentation(inputs)\n",
        "# x = base_model(x, training=False)\n",
        "# x = tf.keras.layers.GlobalAveragePooling2D(name='global_avg_pooling_layer')(x)\n",
        "# x = tf.keras.layers.Flatten()(x)\n",
        "# x = tf.keras.layers.Dense(64, activation= 'relu')(x)\n",
        "# x = tf.keras.layers.Dense(64, activation= 'relu')(x)\n",
        "# x = tf.keras.layers.Dense(16, activation= 'relu')(x)\n",
        "# outputs = tf.keras.layers.Dense(len(class_names), activation='softmax', name='output_layer')(x)\n",
        "# model = tf.keras.Model(inputs, outputs)"
      ]
    },
    {
      "cell_type": "code",
      "execution_count": null,
      "metadata": {
        "colab": {
          "base_uri": "https://localhost:8080/"
        },
        "id": "Fem1BYCvDugi",
        "outputId": "deda45c0-111f-4396-85cf-d8dbcb01972f"
      },
      "outputs": [],
      "source": [
        "model.summary()"
      ]
    },
    {
      "cell_type": "markdown",
      "metadata": {
        "id": "J4uJI9JXXWcO"
      },
      "source": [
        "# Model ploting"
      ]
    },
    {
      "cell_type": "code",
      "execution_count": null,
      "metadata": {
        "colab": {
          "base_uri": "https://localhost:8080/",
          "height": 661
        },
        "id": "5cV_x3peEj08",
        "outputId": "9b8b0948-00fc-44b2-b417-679600e21666"
      },
      "outputs": [],
      "source": [
        "tf.keras.utils.plot_model(\n",
        "    model,\n",
        "    to_file='model.png',\n",
        "    show_shapes=False,        # Set to True to display shapes of the layers\n",
        "    show_dtype=False,        # Set to True to display data types of the layers\n",
        "    show_layer_names=True,   # Set to True to display layer names\n",
        "    rankdir='TB',            # TB for top-bottom direction, LR for left-right direction\n",
        "    expand_nested=False,     # Set to True to expand nested models\n",
        "    dpi=96,                  # Dots per inch for the figure resolution\n",
        "    layer_range=None,        # Range of layers to display\n",
        "    show_layer_activations=False,  # Set to True to display layer activations\n",
        "    show_trainable=False     # Set to True to display trainable parameter count\n",
        ")"
      ]
    },
    {
      "cell_type": "markdown",
      "metadata": {
        "id": "0h1GHyNhXY98"
      },
      "source": [
        "# Model compile"
      ]
    },
    {
      "cell_type": "code",
      "execution_count": null,
      "metadata": {
        "id": "eWG2tNVnEJrc"
      },
      "outputs": [],
      "source": [
        "model.compile(\n",
        "    loss = 'categorical_crossentropy',\n",
        "    optimizer = tf.keras.optimizers.Adam(),\n",
        "    metrics = ['accuracy'],\n",
        ")"
      ]
    },
    {
      "cell_type": "markdown",
      "metadata": {
        "id": "_KlVQQpKXb1V"
      },
      "source": [
        "# Model train"
      ]
    },
    {
      "cell_type": "code",
      "execution_count": null,
      "metadata": {
        "colab": {
          "base_uri": "https://localhost:8080/"
        },
        "id": "dC0s_zjpEPhM",
        "outputId": "ef9001e8-9fc5-48a4-8167-c0cfb07adda2"
      },
      "outputs": [],
      "source": [
        "callbacks = [\n",
        "    tf.keras.callbacks.EarlyStopping(patience=2)\n",
        "]\n",
        "history = model.fit(\n",
        "    train_data,\n",
        "    epochs=32,\n",
        "    validation_data = test_data,\n",
        "    validation_steps = len(test_data),\n",
        "    # callbacks = callbacks\n",
        ")"
      ]
    },
    {
      "cell_type": "markdown",
      "metadata": {
        "id": "sGJb71lGXgWY"
      },
      "source": [
        "# Plot history loss and accuracy"
      ]
    },
    {
      "cell_type": "code",
      "execution_count": null,
      "metadata": {
        "id": "ElbcPab1ESCf"
      },
      "outputs": [],
      "source": [
        "def plot_loss_curves(history):\n",
        "  \"\"\"\n",
        "  Returns separate loss curves for training and validation metrics.\n",
        "\n",
        "  Args:\n",
        "    history: TensorFlow model History object (see: https://www.tensorflow.org/api_docs/python/tf/keras/callbacks/History)\n",
        "  \"\"\"\n",
        "  loss = history.history['loss']\n",
        "  val_loss = history.history['val_loss']\n",
        "\n",
        "  accuracy = history.history['accuracy']\n",
        "  val_accuracy = history.history['val_accuracy']\n",
        "\n",
        "  epochs = range(len(history.history['loss']))\n",
        "\n",
        "  # Plot loss\n",
        "  plt.plot(epochs, loss, label='training_loss')\n",
        "  plt.plot(epochs, val_loss, label='val_loss')\n",
        "  plt.title('Loss')\n",
        "  plt.xlabel('Epochs')\n",
        "  plt.legend()\n",
        "\n",
        "  # Plot accuracy\n",
        "  plt.figure()\n",
        "  plt.plot(epochs, accuracy, label='training_accuracy')\n",
        "  plt.plot(epochs, val_accuracy, label='val_accuracy')\n",
        "  plt.title('Accuracy')\n",
        "  plt.xlabel('Epochs')\n",
        "  plt.legend();\n"
      ]
    },
    {
      "cell_type": "code",
      "execution_count": null,
      "metadata": {
        "colab": {
          "base_uri": "https://localhost:8080/",
          "height": 927
        },
        "id": "J2C7BL_zE5Tu",
        "outputId": "56b9f5eb-c7ad-4f21-beca-4fe04d6e84dd"
      },
      "outputs": [],
      "source": [
        "plot_loss_curves(history)"
      ]
    },
    {
      "cell_type": "markdown",
      "metadata": {
        "id": "fjKI6CffXlq6"
      },
      "source": [
        "# Evalute model"
      ]
    },
    {
      "cell_type": "code",
      "execution_count": null,
      "metadata": {
        "colab": {
          "base_uri": "https://localhost:8080/"
        },
        "id": "xAXXA0v2E7ME",
        "outputId": "46fbd578-492f-421c-cd5d-5f700c6429dc"
      },
      "outputs": [],
      "source": [
        "model.evaluate(test_data)"
      ]
    },
    {
      "cell_type": "markdown",
      "metadata": {
        "id": "VcI03kPvFCyT"
      },
      "source": [
        "# Best model"
      ]
    },
    {
      "cell_type": "code",
      "execution_count": null,
      "metadata": {
        "colab": {
          "base_uri": "https://localhost:8080/",
          "height": 35
        },
        "id": "pf15oTzrFCv4",
        "outputId": "7474470a-b9b2-44b2-bd23-36d4ab5e0c4e"
      },
      "outputs": [],
      "source": [
        "\"\"\"clone the model\"\"\"\n",
        "# best_model = tf.keras.models.load_model(checkpoint_path)"
      ]
    },
    {
      "cell_type": "markdown",
      "metadata": {
        "id": "mP1outUrXwGM"
      },
      "source": [
        "# Evalute best model"
      ]
    },
    {
      "cell_type": "code",
      "execution_count": null,
      "metadata": {
        "id": "7MajyehiFCti"
      },
      "outputs": [],
      "source": [
        "# best_model.evaluate(test_data)"
      ]
    },
    {
      "cell_type": "markdown",
      "metadata": {
        "id": "Kw-PXeWvX1As"
      },
      "source": [
        "# Confusion matrix"
      ]
    },
    {
      "cell_type": "code",
      "execution_count": null,
      "metadata": {
        "id": "qwlsLnALFCjW"
      },
      "outputs": [],
      "source": [
        "import itertools\n",
        "import matplotlib.pyplot as plt\n",
        "import numpy as np\n",
        "from sklearn.metrics import confusion_matrix\n",
        "def make_confusion_matrix(y_true, y_pred, classes=None, figsize=(8, 8), text_size=15, norm=False, savefig=False):\n",
        "  \"\"\"Makes a labelled confusion matrix comparing predictions and ground truth labels.\n",
        "\n",
        "  If classes is passed, confusion matrix will be labelled, if not, integer class values\n",
        "  will be used.\n",
        "\n",
        "  Args:\n",
        "    y_true: Array of truth labels (must be same shape as y_pred).\n",
        "    y_pred: Array of predicted labels (must be same shape as y_true).\n",
        "    classes: Array of class labels (e.g. string form). If `None`, integer labels are used.\n",
        "    figsize: Size of output figure (default=(10, 10)).\n",
        "    text_size: Size of output figure text (default=15).\n",
        "    norm: normalize values or not (default=False).\n",
        "    savefig: save confusion matrix to file (default=False).\n",
        "\n",
        "  Returns:\n",
        "    A labelled confusion matrix plot comparing y_true and y_pred.\n",
        "\n",
        "  Example usage:\n",
        "    make_confusion_matrix(y_true=test_labels, # ground truth test labels\n",
        "                          y_pred=y_preds, # predicted labels\n",
        "                          classes=class_names, # array of class label names\n",
        "                          figsize=(15, 15),\n",
        "                          text_size=10)\n",
        "  \"\"\"\n",
        "  # Create the confustion matrix\n",
        "  cm = confusion_matrix(y_true, y_pred)\n",
        "  cm_norm = cm.astype(\"float\") / cm.sum(axis=1)[:, np.newaxis] # normalize it\n",
        "  n_classes = cm.shape[0] # find the number of classes we're dealing with\n",
        "\n",
        "  # Plot the figure and make it pretty\n",
        "  fig, ax = plt.subplots(figsize=figsize)\n",
        "  cax = ax.matshow(cm, cmap=plt.cm.Blues) # colors will represent how 'correct' a class is, darker == better\n",
        "  fig.colorbar(cax)\n",
        "\n",
        "  # Are there a list of classes?\n",
        "  if classes:\n",
        "    labels = classes\n",
        "  else:\n",
        "    labels = np.arange(cm.shape[0])\n",
        "\n",
        "  # Label the axes\n",
        "  ax.set(title=\"Confusion Matrix\",\n",
        "         xlabel=\"Predicted label\",\n",
        "         ylabel=\"True label\",\n",
        "         xticks=np.arange(n_classes), # create enough axis slots for each class\n",
        "         yticks=np.arange(n_classes),\n",
        "         xticklabels=labels, # axes will labeled with class names (if they exist) or ints\n",
        "         yticklabels=labels)\n",
        "\n",
        "  # Make x-axis labels appear on bottom\n",
        "  ax.tick_params(axis='x', labelrotation=90)\n",
        "  ax.xaxis.set_label_position(\"bottom\")\n",
        "  ax.xaxis.tick_bottom()\n",
        "\n",
        "  # Set the threshold for different colors\n",
        "  threshold = (cm.max() + cm.min()) / 2.\n",
        "\n",
        "  # Plot the text on each cell\n",
        "  for i, j in itertools.product(range(cm.shape[0]), range(cm.shape[1])):\n",
        "    if norm:\n",
        "      plt.text(j, i, f\"{cm[i, j]} ({cm_norm[i, j]*100:.1f}%)\",\n",
        "              horizontalalignment=\"center\",\n",
        "              color=\"white\" if cm[i, j] > threshold else \"black\",\n",
        "              size=text_size)\n",
        "    else:\n",
        "      plt.text(j, i, f\"{cm[i, j]}\",\n",
        "              horizontalalignment=\"center\",\n",
        "              color=\"white\" if cm[i, j] > threshold else \"black\",\n",
        "              size=text_size)\n",
        "\n",
        "  # Save the figure to the current working directory\n",
        "  if savefig:\n",
        "    fig.savefig(\"confusion_matrix.png\")"
      ]
    },
    {
      "cell_type": "code",
      "execution_count": null,
      "metadata": {
        "colab": {
          "base_uri": "https://localhost:8080/"
        },
        "id": "qHxJ6UwIT8oW",
        "outputId": "f091dd9b-72c7-4499-a734-0dc388afe779"
      },
      "outputs": [],
      "source": [
        "y_true = np.array([])\n",
        "y_pred = np.array([])\n",
        "for x, y in test_data:\n",
        "    y_true = np.concatenate([y_true, np.argmax(y, axis=-1)], axis=0)\n",
        "    y_pred = np.concatenate([y_pred, np.argmax(model.predict(x), axis=-1)], axis=0)"
      ]
    },
    {
      "cell_type": "code",
      "execution_count": null,
      "metadata": {
        "colab": {
          "base_uri": "https://localhost:8080/",
          "height": 784
        },
        "id": "bHItXrSHFy-F",
        "outputId": "00a68b9d-4386-4320-c187-14da574890ad"
      },
      "outputs": [],
      "source": [
        "make_confusion_matrix(y_true, y_pred, class_names)"
      ]
    },
    {
      "cell_type": "code",
      "execution_count": null,
      "metadata": {
        "colab": {
          "base_uri": "https://localhost:8080/",
          "height": 867
        },
        "id": "gtzQDUxAOP0j",
        "outputId": "b6204ebd-ca0d-423f-940c-d874ff843403"
      },
      "outputs": [],
      "source": [
        "import matplotlib.pyplot as plt\n",
        "import numpy as np\n",
        "\n",
        "def plot_confusion_matrix(cm,\n",
        "                          target_names,\n",
        "                          title='Confusion matrix',\n",
        "                          cmap=None,\n",
        "                          normalize=True):\n",
        "\n",
        "    accuracy = np.trace(cm) / float(np.sum(cm))\n",
        "    misclass = 1 - accuracy\n",
        "\n",
        "    if cmap is None:\n",
        "        cmap = plt.get_cmap('Blues')\n",
        "\n",
        "    plt.figure(figsize=(6, 4))\n",
        "    plt.imshow(cm, interpolation='nearest', cmap=cmap)\n",
        "    plt.title(title)\n",
        "    plt.colorbar()\n",
        "\n",
        "    if target_names is not None:\n",
        "        tick_marks = np.arange(len(target_names))\n",
        "        plt.xticks(tick_marks, target_names, rotation=45)\n",
        "        plt.yticks(tick_marks, target_names)\n",
        "\n",
        "    if normalize:\n",
        "        cm = cm.astype('float') / cm.sum(axis=1)[:, np.newaxis]\n",
        "\n",
        "    thresh = cm.max() / 1.5 if normalize else cm.max() / 2\n",
        "    for i, j in np.ndindex(cm.shape):\n",
        "        if normalize:\n",
        "            plt.text(j, i, \"{:0.4f}\".format(cm[i, j]),\n",
        "                     horizontalalignment=\"center\",\n",
        "                     color=\"white\" if cm[i, j] > thresh else \"black\")\n",
        "        else:\n",
        "            plt.text(j, i, \"{:,}\".format(cm[i, j]),\n",
        "                     horizontalalignment=\"center\",\n",
        "                     color=\"white\" if cm[i, j] > thresh else \"black\")\n",
        "\n",
        "    plt.tight_layout()\n",
        "    plt.ylabel('True label')\n",
        "    plt.xlabel('Predicted label\\n Accuracy={:0.4f}; Misclass={:0.4f}'.format(accuracy, misclass))\n",
        "    plt.show()\n",
        "\n",
        "# Example usage:\n",
        "matrix = [[69, 0, 3, 14],\n",
        "          [3, 196, 0, 0],\n",
        "          [1, 0, 155, 1],\n",
        "          [4, 2, 0, 200]]\n",
        "\n",
        "plot_confusion_matrix(cm=np.array(matrix),\n",
        "                      normalize=False,\n",
        "                      target_names=['EarlyPreB', 'PreB', 'ProB', 'benign'],\n",
        "                      title=\"Confusion Matrix\")\n",
        "\n",
        "plot_confusion_matrix(cm=np.array(matrix),\n",
        "                      normalize=True,\n",
        "                      target_names=['EarlyPreB', 'PreB', 'ProB', 'benign'],\n",
        "                      title=\"Confusion Matrix, Normalized\")\n"
      ]
    },
    {
      "cell_type": "code",
      "execution_count": null,
      "metadata": {
        "colab": {
          "base_uri": "https://localhost:8080/"
        },
        "id": "x1A9mlN9rEnK",
        "outputId": "ea047389-6481-47f2-bd30-c12891ecf060"
      },
      "outputs": [],
      "source": [
        "y_pred\n"
      ]
    },
    {
      "cell_type": "code",
      "execution_count": null,
      "metadata": {
        "colab": {
          "base_uri": "https://localhost:8080/",
          "height": 725
        },
        "id": "36Fph6zjUKxC",
        "outputId": "95849835-be4b-46c2-9add-2fb47f2cb3ff"
      },
      "outputs": [],
      "source": [
        "import matplotlib.pyplot as plt\n",
        "\n",
        "# Initialize counters for correct and incorrect predictions\n",
        "correct_count = 0\n",
        "incorrect_count = 0\n",
        "\n",
        "plt.figure(figsize=(10, 10))\n",
        "for image_batch, label_batch in test_data.take(1):\n",
        "    for i in range(8):  # Show 8 images\n",
        "        plt.subplot(3, 4, i + 1)\n",
        "        img = image_batch[i].numpy().astype(\"uint8\")\n",
        "        plt.imshow(img)\n",
        "        true_class = class_names[np.argmax(label_batch[i])]\n",
        "\n",
        "        # Expand the image dimensions and make a prediction\n",
        "        img = np.expand_dims(img, axis=0)\n",
        "        predict_class = model.predict(img)[0]\n",
        "        predict_class = class_names[np.argmax(predict_class)]\n",
        "\n",
        "        title = f\"True: {true_class}\\nPredicted: {predict_class}\"\n",
        "        if true_class == predict_class:\n",
        "            plt.title(title, color='g')  # Correct prediction shown in green\n",
        "            correct_count += 1\n",
        "        else:\n",
        "            plt.title(title, color='r')  # Incorrect prediction shown in red\n",
        "            incorrect_count += 1\n",
        "        plt.axis(\"off\")\n",
        "\n",
        "plt.tight_layout()\n",
        "plt.show()"
      ]
    },
    {
      "cell_type": "code",
      "execution_count": null,
      "metadata": {
        "id": "Ju9VDTYpLd-T"
      },
      "outputs": [],
      "source": []
    }
  ],
  "metadata": {
    "accelerator": "GPU",
    "colab": {
      "gpuType": "T4",
      "provenance": [],
      "toc_visible": true
    },
    "kernelspec": {
      "display_name": "Python 3",
      "name": "python3"
    },
    "language_info": {
      "name": "python"
    }
  },
  "nbformat": 4,
  "nbformat_minor": 0
}
